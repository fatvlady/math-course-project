{
 "cells": [
  {
   "cell_type": "code",
   "execution_count": null,
   "metadata": {},
   "outputs": [],
   "source": [
    "%pylab inline"
   ]
  },
  {
   "cell_type": "code",
   "execution_count": null,
   "metadata": {},
   "outputs": [],
   "source": [
    "from scipy import integrate as it"
   ]
  },
  {
   "cell_type": "code",
   "execution_count": null,
   "metadata": {},
   "outputs": [],
   "source": [
    "def factory(p, phi):\n",
    "    e_necos = exp(-cos(phi))\n",
    "    sin_phi = sin(phi)\n",
    "    def f(r):\n",
    "        e_nercos = e_necos ** r\n",
    "        cos_theta = cos(r * sin_phi)\n",
    "        return e_nercos * cos_theta / (r * ( 1 - 2 * p * e_nercos * cos_theta + p * p * e_nercos * e_nercos))\n",
    "    return f"
   ]
  },
  {
   "cell_type": "code",
   "execution_count": null,
   "metadata": {},
   "outputs": [],
   "source": [
    "it.quad(factory(0.8, pi * 0.5), pi/2, 17* pi / 2)"
   ]
  },
  {
   "cell_type": "code",
   "execution_count": null,
   "metadata": {},
   "outputs": [],
   "source": [
    "x = linspace(1,10,1000)"
   ]
  },
  {
   "cell_type": "code",
   "execution_count": null,
   "metadata": {},
   "outputs": [],
   "source": [
    "plot(x, factory(0.8, pi * 0.5)(x))\n",
    "fill_between(x, 0 * x, factory(0.8, pi * 0.5)(x), alpha=0.3)"
   ]
  },
  {
   "cell_type": "code",
   "execution_count": null,
   "metadata": {},
   "outputs": [],
   "source": [
    "def factory2(p, phi):\n",
    "    e_necos = exp(-cos(phi))\n",
    "    sin_phi = sin(phi)\n",
    "    def f(r):\n",
    "        e_nercos = e_necos ** r\n",
    "        cos_theta = cos(r * sin_phi)\n",
    "        return (e_nercos * cos_theta - 0.5) / (r * ( 1 - 2 * p * e_nercos * cos_theta + p * p * e_nercos * e_nercos))\n",
    "    return f"
   ]
  },
  {
   "cell_type": "code",
   "execution_count": null,
   "metadata": {},
   "outputs": [],
   "source": [
    "plot(x, factory2(0.8, pi * 0.5)(x))\n",
    "fill_between(x, 0 * x, factory2(0.8, pi * 0.5)(x), alpha=0.3)"
   ]
  },
  {
   "cell_type": "code",
   "execution_count": null,
   "metadata": {},
   "outputs": [],
   "source": [
    "plot(linspace(1,50, 1000),factory2(0.8, pi * 0.5)(linspace(1,50, 1000)))\n",
    "plot(linspace(1,50, 1000),np.reciprocal(linspace(1,50, 1000)))"
   ]
  },
  {
   "cell_type": "code",
   "execution_count": null,
   "metadata": {},
   "outputs": [],
   "source": [
    "it.quad(factory2(0.8, pi * 0.5), 1, 45)"
   ]
  },
  {
   "cell_type": "code",
   "execution_count": null,
   "metadata": {},
   "outputs": [],
   "source": [
    "def factory3(p, phi):\n",
    "    e_necos = exp(-cos(phi))\n",
    "    sin_phi = sin(phi)\n",
    "    def f(r):\n",
    "        e_nercos = e_necos ** r\n",
    "        cos_theta = cos(r * sin_phi)\n",
    "        return (2 * e_nercos * cos_theta - p * (2 - p) * e_nercos * e_nercos - 1 ) / (r * ( 1 - 2 * p * e_nercos * cos_theta + p * p * e_nercos * e_nercos))\n",
    "    return f"
   ]
  },
  {
   "cell_type": "code",
   "execution_count": null,
   "metadata": {
    "scrolled": true
   },
   "outputs": [],
   "source": [
    "plot(linspace(1, 50, 1000),factory3(0, pi * 0.5)(linspace(1, 50, 1000)))"
   ]
  },
  {
   "cell_type": "code",
   "execution_count": null,
   "metadata": {},
   "outputs": [],
   "source": [
    "plot(arange(100, 200,2) * pi, factory3(0.99, pi * 0.5)(arange(100, 200,2) * pi))\n",
    "plot(arange(100, 200,2) * pi, arange(0, 100,2) * 0)"
   ]
  },
  {
   "cell_type": "code",
   "execution_count": null,
   "metadata": {},
   "outputs": [],
   "source": []
  }
 ],
 "metadata": {
  "kernelspec": {
   "display_name": "Python 3",
   "language": "python",
   "name": "python3"
  },
  "language_info": {
   "codemirror_mode": {
    "name": "ipython",
    "version": 3
   },
   "file_extension": ".py",
   "mimetype": "text/x-python",
   "name": "python",
   "nbconvert_exporter": "python",
   "pygments_lexer": "ipython3",
   "version": "3.6.0"
  }
 },
 "nbformat": 4,
 "nbformat_minor": 2
}
